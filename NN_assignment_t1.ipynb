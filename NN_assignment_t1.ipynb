{
  "cells": [
    {
      "cell_type": "code",
      "source": [
        "!unzip homer_bart"
      ],
      "metadata": {
        "colab": {
          "base_uri": "https://localhost:8080/"
        },
        "collapsed": true,
        "id": "bbXaqiIGAzUE",
        "outputId": "bb73888b-a5c2-4e17-e558-2a913b689204"
      },
      "execution_count": 1,
      "outputs": [
        {
          "output_type": "stream",
          "name": "stdout",
          "text": [
            "Archive:  homer_bart.zip\n",
            "   creating: Bart/\n",
            "  inflating: Bart/bart58.bmp         \n",
            "  inflating: Bart/bart70.bmp         \n",
            "  inflating: Bart/bart64.bmp         \n",
            "  inflating: Bart/bart162.bmp        \n",
            "  inflating: Bart/bart65.bmp         \n",
            "  inflating: Bart/bart71.bmp         \n",
            "  inflating: Bart/bart59.bmp         \n",
            "  inflating: Bart/bart67.bmp         \n",
            "  inflating: Bart/bart73.bmp         \n",
            "  inflating: Bart/bart98.bmp         \n",
            "  inflating: Bart/bart161.bmp        \n",
            "  inflating: Bart/bart149.bmp        \n",
            "  inflating: Bart/bart148.bmp        \n",
            "  inflating: Bart/bart160.bmp        \n",
            "  inflating: Bart/bart99.bmp         \n",
            "  inflating: Bart/bart72.bmp         \n",
            "  inflating: Bart/bart66.bmp         \n",
            "  inflating: Bart/bart62.bmp         \n",
            "  inflating: Bart/bart76.bmp         \n",
            "  inflating: Bart/bart89.bmp         \n",
            "  inflating: Bart/bart158.bmp        \n",
            "  inflating: Bart/bart164.bmp        \n",
            "  inflating: Bart/bart165.bmp        \n",
            "  inflating: Bart/bart159.bmp        \n",
            "  inflating: Bart/bart77.bmp         \n",
            "  inflating: Bart/bart63.bmp         \n",
            "  inflating: Bart/bart75.bmp         \n",
            "  inflating: Bart/bart61.bmp         \n",
            "  inflating: Bart/bart49.bmp         \n",
            "  inflating: Bart/bart167.bmp        \n",
            "  inflating: Bart/bart166.bmp        \n",
            "  inflating: Bart/bart48.bmp         \n",
            "  inflating: Bart/bart60.bmp         \n",
            "  inflating: Bart/bart74.bmp         \n",
            "  inflating: Bart/bart13.bmp         \n",
            "  inflating: Bart/bart115.bmp        \n",
            "  inflating: Bart/bart101.bmp        \n",
            "  inflating: Bart/bart128.bmp        \n",
            "  inflating: Bart/bart100.bmp        \n",
            "  inflating: Bart/bart114.bmp        \n",
            "  inflating: Bart/bart12.bmp         \n",
            "  inflating: Bart/bart38.bmp         \n",
            "  inflating: Bart/bart10.bmp         \n",
            "  inflating: Bart/bart102.bmp        \n",
            "  inflating: Bart/bart116.bmp        \n",
            "  inflating: Bart/bart117.bmp        \n",
            "  inflating: Bart/bart103.bmp        \n",
            "  inflating: Bart/bart11.bmp         \n",
            "  inflating: Bart/bart39.bmp         \n",
            "  inflating: Bart/bart15.bmp         \n",
            "  inflating: Bart/bart29.bmp         \n",
            "  inflating: Bart/bart9.bmp          \n",
            "  inflating: Bart/bart113.bmp        \n",
            "  inflating: Bart/bart112.bmp        \n",
            "  inflating: Bart/bart106.bmp        \n",
            "  inflating: Bart/bart8.bmp          \n",
            "  inflating: Bart/bart28.bmp         \n",
            "  inflating: Bart/bart14.bmp         \n",
            "  inflating: Bart/bart16.bmp         \n",
            "  inflating: Bart/bart138.bmp        \n",
            "  inflating: Bart/bart110.bmp        \n",
            "  inflating: Bart/bart104.bmp        \n",
            "  inflating: Bart/bart105.bmp        \n",
            "  inflating: Bart/bart111.bmp        \n",
            "  inflating: Bart/bart139.bmp        \n",
            "  inflating: Bart/bart17.bmp         \n",
            "  inflating: Bart/bart32.bmp         \n",
            "  inflating: Bart/bart26.bmp         \n",
            "  inflating: Bart/bart6.bmp          \n",
            "  inflating: Bart/bart134.bmp        \n",
            "  inflating: Bart/bart120.bmp        \n",
            "  inflating: Bart/bart108.bmp        \n",
            "  inflating: Bart/bart109.bmp        \n",
            "  inflating: Bart/bart121.bmp        \n",
            "  inflating: Bart/bart135.bmp        \n",
            "  inflating: Bart/bart7.bmp          \n",
            "  inflating: Bart/bart27.bmp         \n",
            "  inflating: Bart/bart19.bmp         \n",
            "  inflating: Bart/bart25.bmp         \n",
            "  inflating: Bart/bart31.bmp         \n",
            "  inflating: Bart/bart5.bmp          \n",
            "  inflating: Bart/bart123.bmp        \n",
            "  inflating: Bart/bart137.bmp        \n",
            "  inflating: Bart/bart136.bmp        \n",
            "  inflating: Bart/bart122.bmp        \n",
            "  inflating: Bart/bart4.bmp          \n",
            "  inflating: Bart/bart30.bmp         \n",
            "  inflating: Bart/bart24.bmp         \n",
            "  inflating: Bart/bart18.bmp         \n",
            "  inflating: Bart/bart20.bmp         \n",
            "  inflating: Bart/bart34.bmp         \n",
            "  inflating: Bart/bart126.bmp        \n",
            "  inflating: Bart/bart132.bmp        \n",
            "  inflating: Bart/bart133.bmp        \n",
            "  inflating: Bart/bart127.bmp        \n",
            "  inflating: Bart/bart1.bmp          \n",
            "  inflating: Bart/bart35.bmp         \n",
            "  inflating: Bart/bart21.bmp         \n",
            "  inflating: Bart/bart37.bmp         \n",
            "  inflating: Bart/bart23.bmp         \n",
            "  inflating: Bart/bart3.bmp          \n",
            "  inflating: Bart/bart119.bmp        \n",
            "  inflating: Bart/bart131.bmp        \n",
            "  inflating: Bart/bart125.bmp        \n",
            "  inflating: Bart/bart124.bmp        \n",
            "  inflating: Bart/bart130.bmp        \n",
            "  inflating: Bart/bart118.bmp        \n",
            "  inflating: Bart/bart2.bmp          \n",
            "  inflating: Bart/bart22.bmp         \n",
            "  inflating: Bart/bart36.bmp         \n",
            "  inflating: Bart/bart79.bmp         \n",
            "  inflating: Bart/bart51.bmp         \n",
            "  inflating: Bart/bart45.bmp         \n",
            "  inflating: Bart/bart92.bmp         \n",
            "  inflating: Bart/bart86.bmp         \n",
            "  inflating: Bart/bart157.bmp        \n",
            "  inflating: Bart/bart143.bmp        \n",
            "  inflating: Bart/bart142.bmp        \n",
            "  inflating: Bart/bart156.bmp        \n",
            "  inflating: Bart/bart87.bmp         \n",
            "  inflating: Bart/bart93.bmp         \n",
            "  inflating: Bart/bart44.bmp         \n",
            "  inflating: Bart/bart50.bmp         \n",
            "  inflating: Bart/bart46.bmp         \n",
            "  inflating: Bart/bart52.bmp         \n",
            "  inflating: Bart/bart85.bmp         \n",
            "  inflating: Bart/bart91.bmp         \n",
            "  inflating: Bart/bart154.bmp        \n",
            "  inflating: Bart/bart168.bmp        \n",
            "  inflating: Bart/bart169.bmp        \n",
            "  inflating: Bart/bart155.bmp        \n",
            "  inflating: Bart/bart141.bmp        \n",
            "  inflating: Bart/bart90.bmp         \n",
            "  inflating: Bart/bart84.bmp         \n",
            "  inflating: Bart/bart53.bmp         \n",
            "  inflating: Bart/bart47.bmp         \n",
            "  inflating: Bart/bart43.bmp         \n",
            "  inflating: Bart/bart57.bmp         \n",
            "  inflating: Bart/bart80.bmp         \n",
            "  inflating: Bart/bart94.bmp         \n",
            "  inflating: Bart/bart145.bmp        \n",
            "  inflating: Bart/bart151.bmp        \n",
            "  inflating: Bart/bart150.bmp        \n",
            "  inflating: Bart/bart144.bmp        \n",
            "  inflating: Bart/bart95.bmp         \n",
            "  inflating: Bart/bart81.bmp         \n",
            "  inflating: Bart/bart56.bmp         \n",
            "  inflating: Bart/bart42.bmp         \n",
            "  inflating: Bart/bart54.bmp         \n",
            "  inflating: Bart/bart40.bmp         \n",
            "  inflating: Bart/bart68.bmp         \n",
            "  inflating: Bart/bart97.bmp         \n",
            "  inflating: Bart/bart83.bmp         \n",
            "  inflating: Bart/bart146.bmp        \n",
            "  inflating: Bart/bart147.bmp        \n",
            "  inflating: Bart/bart153.bmp        \n",
            "  inflating: Bart/bart82.bmp         \n",
            "  inflating: Bart/bart96.bmp         \n",
            "  inflating: Bart/bart69.bmp         \n",
            "  inflating: Bart/bart55.bmp         \n",
            "   creating: Homer/\n",
            "  inflating: Homer/homer38.bmp       \n",
            "  inflating: Homer/homer10.bmp       \n",
            "  inflating: Homer/homer119.bmp      \n",
            "  inflating: Homer/homer124.bmp      \n",
            "  inflating: Homer/homer13.bmp       \n",
            "  inflating: Homer/homer16.bmp       \n",
            "  inflating: Homer/homer123.bmp      \n",
            "  inflating: Homer/homer122.bmp      \n",
            "  inflating: Homer/homer17.bmp       \n",
            "  inflating: Homer/homer15.bmp       \n",
            "  inflating: Homer/homer29.bmp       \n",
            "  inflating: Homer/homer120.bmp      \n",
            "  inflating: Homer/homer8.bmp        \n",
            "  inflating: Homer/homer9.bmp        \n",
            "  inflating: Homer/homer109.bmp      \n",
            "  inflating: Homer/homer121.bmp      \n",
            "  inflating: Homer/homer28.bmp       \n",
            "  inflating: Homer/homer14.bmp       \n",
            "  inflating: Homer/homer73.bmp       \n",
            "  inflating: Homer/homer98.bmp       \n",
            "  inflating: Homer/homer99.bmp       \n",
            "  inflating: Homer/homer72.bmp       \n",
            "  inflating: Homer/homer66.bmp       \n",
            "  inflating: Homer/homer58.bmp       \n",
            "  inflating: Homer/homer70.bmp       \n",
            "  inflating: Homer/homer65.bmp       \n",
            "  inflating: Homer/homer71.bmp       \n",
            "  inflating: Homer/homer59.bmp       \n",
            "  inflating: Homer/homer75.bmp       \n",
            "  inflating: Homer/homer61.bmp       \n",
            "  inflating: Homer/homer49.bmp       \n",
            "  inflating: Homer/homer48.bmp       \n",
            "  inflating: Homer/homer60.bmp       \n",
            "  inflating: Homer/homer74.bmp       \n",
            "  inflating: Homer/homer62.bmp       \n",
            "  inflating: Homer/homer76.bmp       \n",
            "  inflating: Homer/homer77.bmp       \n",
            "  inflating: Homer/homer63.bmp       \n",
            "  inflating: Homer/homer46.bmp       \n",
            "  inflating: Homer/homer52.bmp       \n",
            "  inflating: Homer/homer85.bmp       \n",
            "  inflating: Homer/homer91.bmp       \n",
            "  inflating: Homer/homer90.bmp       \n",
            "  inflating: Homer/homer84.bmp       \n",
            "  inflating: Homer/homer47.bmp       \n",
            "  inflating: Homer/homer79.bmp       \n",
            "  inflating: Homer/homer51.bmp       \n",
            "  inflating: Homer/homer45.bmp       \n",
            "  inflating: Homer/homer92.bmp       \n",
            "  inflating: Homer/homer86.bmp       \n",
            "  inflating: Homer/homer87.bmp       \n",
            "  inflating: Homer/homer93.bmp       \n",
            "  inflating: Homer/homer44.bmp       \n",
            "  inflating: Homer/homer50.bmp       \n",
            "  inflating: Homer/homer78.bmp       \n",
            "  inflating: Homer/homer54.bmp       \n",
            "  inflating: Homer/homer40.bmp       \n",
            "  inflating: Homer/homer68.bmp       \n",
            "  inflating: Homer/homer97.bmp       \n",
            "  inflating: Homer/homer83.bmp       \n",
            "  inflating: Homer/homer82.bmp       \n",
            "  inflating: Homer/homer96.bmp       \n",
            "  inflating: Homer/homer69.bmp       \n",
            "  inflating: Homer/homer41.bmp       \n",
            "  inflating: Homer/homer55.bmp       \n",
            "  inflating: Homer/homer43.bmp       \n",
            "  inflating: Homer/homer57.bmp       \n",
            "  inflating: Homer/homer80.bmp       \n",
            "  inflating: Homer/homer94.bmp       \n",
            "  inflating: Homer/homer95.bmp       \n",
            "  inflating: Homer/homer81.bmp       \n",
            "  inflating: Homer/homer56.bmp       \n",
            "  inflating: Homer/homer31.bmp       \n",
            "  inflating: Homer/homer104.bmp      \n",
            "  inflating: Homer/homer110.bmp      \n",
            "  inflating: Homer/homer4.bmp        \n",
            "  inflating: Homer/homer5.bmp        \n",
            "  inflating: Homer/homer105.bmp      \n",
            "  inflating: Homer/homer30.bmp       \n",
            "  inflating: Homer/homer24.bmp       \n",
            "  inflating: Homer/homer18.bmp       \n",
            "  inflating: Homer/homer32.bmp       \n",
            "  inflating: Homer/homer26.bmp       \n",
            "  inflating: Homer/homer113.bmp      \n",
            "  inflating: Homer/homer107.bmp      \n",
            "  inflating: Homer/homer7.bmp        \n",
            "  inflating: Homer/homer6.bmp        \n",
            "  inflating: Homer/homer106.bmp      \n",
            "  inflating: Homer/homer112.bmp      \n",
            "  inflating: Homer/homer27.bmp       \n",
            "  inflating: Homer/homer33.bmp       \n",
            "  inflating: Homer/homer37.bmp       \n",
            "  inflating: Homer/homer23.bmp       \n",
            "  inflating: Homer/homer116.bmp      \n",
            "  inflating: Homer/homer102.bmp      \n",
            "  inflating: Homer/homer2.bmp        \n",
            "  inflating: Homer/homer3.bmp        \n",
            "  inflating: Homer/homer103.bmp      \n",
            "  inflating: Homer/homer117.bmp      \n",
            "  inflating: Homer/homer22.bmp       \n",
            "  inflating: Homer/homer36.bmp       \n",
            "  inflating: Homer/homer20.bmp       \n",
            "  inflating: Homer/homer34.bmp       \n",
            "  inflating: Homer/homer101.bmp      \n",
            "  inflating: Homer/homer115.bmp      \n",
            "  inflating: Homer/homer1.bmp        \n",
            "  inflating: Homer/homer100.bmp      \n",
            "  inflating: Homer/homer35.bmp       \n",
            "  inflating: Homer/homer21.bmp       \n"
          ]
        }
      ]
    },
    {
      "cell_type": "code",
      "execution_count": 8,
      "metadata": {
        "id": "SzqjA6jbG-dW"
      },
      "outputs": [],
      "source": [
        "import tensorflow as tf\n",
        "from tensorflow.keras.layers import Dense,Flatten,Rescaling\n",
        "from tensorflow.keras import Input,Sequential"
      ]
    },
    {
      "cell_type": "code",
      "source": [
        "img_height, img_width = 64, 64\n",
        "batch_size = 32\n",
        "epochs = 20"
      ],
      "metadata": {
        "id": "F5eeeZCbBHsz"
      },
      "execution_count": 25,
      "outputs": []
    },
    {
      "cell_type": "code",
      "execution_count": 4,
      "metadata": {
        "colab": {
          "base_uri": "https://localhost:8080/"
        },
        "id": "dWOiYzrqIrvB",
        "outputId": "3e9c1904-6d12-4460-a031-d818b73da0c0"
      },
      "outputs": [
        {
          "output_type": "stream",
          "name": "stdout",
          "text": [
            "Found 269 files belonging to 2 classes.\n"
          ]
        }
      ],
      "source": [
        "dataset = tf.keras.preprocessing.image_dataset_from_directory(\"images\",image_size=(64, 64),label_mode = \"binary\")"
      ]
    },
    {
      "cell_type": "code",
      "execution_count": 5,
      "metadata": {
        "id": "RSasTq5wRgPz"
      },
      "outputs": [],
      "source": [
        "train_data = dataset.take(8)\n",
        "test_data = dataset.skip(8)\n",
        "train_data = train_data.cache().shuffle(1000).prefetch(buffer_size=tf.data.AUTOTUNE)\n",
        "test_data = test_data.cache().shuffle(1000).prefetch(buffer_size=tf.data.AUTOTUNE)"
      ]
    },
    {
      "cell_type": "code",
      "execution_count": null,
      "metadata": {
        "id": "yID91aluk8jG"
      },
      "outputs": [],
      "source": [
        "preprocess = tf.keras.Sequential(\n",
        "    [tf.keras.layers.Rescaling(None)] # rescaling factor\n",
        ")\n",
        "model = tf.keras.Sequential()\n",
        "model.add(Input((64,64,3)))\n",
        "model.add(Flatten())\n",
        "model.add(preprocess)\n",
        "model.add(Dense(None, activation=None))\n",
        "model.add(Dense(None, activation=None))\n",
        "model.add(Dense(None, activation=None))\n",
        "model.add(Dense(1, activation=None))"
      ]
    },
    {
      "cell_type": "code",
      "source": [
        "model = Sequential([\n",
        "    Flatten(input_shape=(img_height, img_width, 3)),\n",
        "    Rescaling(1/255.0),\n",
        "    Dense(256, activation='relu'),\n",
        "    Dense(128, activation='relu'),\n",
        "    Dense(64, activation='relu'),\n",
        "    Dense(32, activation='relu'),\n",
        "    Dense(1, activation='sigmoid')\n",
        "])"
      ],
      "metadata": {
        "id": "EVSOIW92BEoD"
      },
      "execution_count": 27,
      "outputs": []
    },
    {
      "cell_type": "code",
      "execution_count": 28,
      "metadata": {
        "id": "n8IzestGlVwX"
      },
      "outputs": [],
      "source": [
        "model.compile(optimizer='Adam',\n",
        "              loss = tf.keras.losses.BinaryCrossentropy(from_logits=False), # use tf.keras.losses._______(from_logits = False)\n",
        "              metrics = ['accuracy'])"
      ]
    },
    {
      "cell_type": "code",
      "execution_count": 29,
      "metadata": {
        "colab": {
          "base_uri": "https://localhost:8080/"
        },
        "id": "MUX7le0zrNKo",
        "outputId": "cd40fe80-eac1-4127-f753-264768e181de"
      },
      "outputs": [
        {
          "output_type": "stream",
          "name": "stdout",
          "text": [
            "Epoch 1/20\n",
            "8/8 [==============================] - 2s 21ms/step - loss: 1.7166 - accuracy: 0.4922 - val_loss: 0.6341 - val_accuracy: 0.8462\n",
            "Epoch 2/20\n",
            "8/8 [==============================] - 0s 6ms/step - loss: 1.2979 - accuracy: 0.5391 - val_loss: 0.4154 - val_accuracy: 0.8462\n",
            "Epoch 3/20\n",
            "8/8 [==============================] - 0s 6ms/step - loss: 0.7590 - accuracy: 0.5547 - val_loss: 1.0695 - val_accuracy: 0.1538\n",
            "Epoch 4/20\n",
            "8/8 [==============================] - 0s 8ms/step - loss: 0.6661 - accuracy: 0.5977 - val_loss: 0.2571 - val_accuracy: 0.8462\n",
            "Epoch 5/20\n",
            "8/8 [==============================] - 0s 6ms/step - loss: 0.5839 - accuracy: 0.7031 - val_loss: 0.2375 - val_accuracy: 1.0000\n",
            "Epoch 6/20\n",
            "8/8 [==============================] - 0s 6ms/step - loss: 0.4965 - accuracy: 0.7812 - val_loss: 0.7142 - val_accuracy: 0.6154\n",
            "Epoch 7/20\n",
            "8/8 [==============================] - 0s 8ms/step - loss: 0.5907 - accuracy: 0.6836 - val_loss: 0.1846 - val_accuracy: 1.0000\n",
            "Epoch 8/20\n",
            "8/8 [==============================] - 0s 9ms/step - loss: 0.4975 - accuracy: 0.7852 - val_loss: 0.5166 - val_accuracy: 0.6923\n",
            "Epoch 9/20\n",
            "8/8 [==============================] - 0s 6ms/step - loss: 0.5476 - accuracy: 0.7305 - val_loss: 0.4404 - val_accuracy: 0.7692\n",
            "Epoch 10/20\n",
            "8/8 [==============================] - 0s 7ms/step - loss: 0.4798 - accuracy: 0.7383 - val_loss: 0.1881 - val_accuracy: 0.9231\n",
            "Epoch 11/20\n",
            "8/8 [==============================] - 0s 7ms/step - loss: 0.4161 - accuracy: 0.8125 - val_loss: 0.4260 - val_accuracy: 0.7692\n",
            "Epoch 12/20\n",
            "8/8 [==============================] - 0s 7ms/step - loss: 0.4091 - accuracy: 0.8008 - val_loss: 0.2351 - val_accuracy: 0.9231\n",
            "Epoch 13/20\n",
            "8/8 [==============================] - 0s 5ms/step - loss: 0.3500 - accuracy: 0.8242 - val_loss: 0.3390 - val_accuracy: 0.9231\n",
            "Epoch 14/20\n",
            "8/8 [==============================] - 0s 5ms/step - loss: 0.3382 - accuracy: 0.8672 - val_loss: 0.1692 - val_accuracy: 0.9231\n",
            "Epoch 15/20\n",
            "8/8 [==============================] - 0s 6ms/step - loss: 0.2981 - accuracy: 0.8906 - val_loss: 0.1163 - val_accuracy: 1.0000\n",
            "Epoch 16/20\n",
            "8/8 [==============================] - 0s 6ms/step - loss: 0.3153 - accuracy: 0.8828 - val_loss: 0.1400 - val_accuracy: 0.9231\n",
            "Epoch 17/20\n",
            "8/8 [==============================] - 0s 6ms/step - loss: 0.3938 - accuracy: 0.8320 - val_loss: 0.2706 - val_accuracy: 0.9231\n",
            "Epoch 18/20\n",
            "8/8 [==============================] - 0s 6ms/step - loss: 0.3366 - accuracy: 0.8555 - val_loss: 0.0841 - val_accuracy: 1.0000\n",
            "Epoch 19/20\n",
            "8/8 [==============================] - 0s 6ms/step - loss: 0.3124 - accuracy: 0.8711 - val_loss: 0.3324 - val_accuracy: 0.9231\n",
            "Epoch 20/20\n",
            "8/8 [==============================] - 0s 7ms/step - loss: 0.2847 - accuracy: 0.8945 - val_loss: 0.0764 - val_accuracy: 1.0000\n"
          ]
        },
        {
          "output_type": "execute_result",
          "data": {
            "text/plain": [
              "<keras.src.callbacks.History at 0x797221d2d570>"
            ]
          },
          "metadata": {},
          "execution_count": 29
        }
      ],
      "source": [
        "model.fit(train_data,\n",
        "          epochs = epochs,\n",
        "          batch_size = batch_size,\n",
        "          verbose=1,\n",
        "          validation_data = test_data)"
      ]
    },
    {
      "cell_type": "code",
      "source": [
        "loss, accuracy = model.evaluate(test_data)\n",
        "print(\"Loss: \", loss)\n",
        "print(\"Accuracy: \", accuracy)"
      ],
      "metadata": {
        "colab": {
          "base_uri": "https://localhost:8080/"
        },
        "id": "ZPC79kpICArL",
        "outputId": "df458526-638e-4566-cd19-dcf3b1213158"
      },
      "execution_count": 30,
      "outputs": [
        {
          "output_type": "stream",
          "name": "stdout",
          "text": [
            "1/1 [==============================] - 0s 12ms/step - loss: 0.0764 - accuracy: 1.0000\n",
            "Loss:  0.07639925181865692\n",
            "Accuracy:  1.0\n"
          ]
        }
      ]
    },
    {
      "cell_type": "code",
      "source": [
        "if accuracy > 0.8:\n",
        "  print('\\033[92mTest Passed!!')\n",
        "else:\n",
        "  print('\\033[91mTest Failed!!')"
      ],
      "metadata": {
        "colab": {
          "base_uri": "https://localhost:8080/"
        },
        "id": "Zunh2p3wCJPp",
        "outputId": "602e077a-3a79-4716-8017-420e5c1aa329"
      },
      "execution_count": 17,
      "outputs": [
        {
          "output_type": "stream",
          "name": "stdout",
          "text": [
            "\u001b[92mTest Passed!!\n",
            "\u001b[0mgr\n"
          ]
        }
      ]
    },
    {
      "cell_type": "code",
      "source": [],
      "metadata": {
        "id": "MnAcLXbBClkN"
      },
      "execution_count": null,
      "outputs": []
    }
  ],
  "metadata": {
    "accelerator": "GPU",
    "colab": {
      "gpuType": "T4",
      "provenance": []
    },
    "kernelspec": {
      "display_name": "Python 3 (ipykernel)",
      "language": "python",
      "name": "python3"
    },
    "language_info": {
      "codemirror_mode": {
        "name": "ipython",
        "version": 3
      },
      "file_extension": ".py",
      "mimetype": "text/x-python",
      "name": "python",
      "nbconvert_exporter": "python",
      "pygments_lexer": "ipython3",
      "version": "3.11.4"
    }
  },
  "nbformat": 4,
  "nbformat_minor": 0
}